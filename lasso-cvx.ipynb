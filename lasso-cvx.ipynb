{
 "cells": [
  {
   "cell_type": "code",
   "execution_count": 1,
   "metadata": {},
   "outputs": [],
   "source": [
    "import cvxpy as cp\n",
    "import numpy as np\n",
    "import pandas as pd\n",
    "from sklearn.preprocessing import StandardScaler"
   ]
  },
  {
   "cell_type": "code",
   "execution_count": 2,
   "metadata": {},
   "outputs": [],
   "source": [
    "X = pd.read_csv('X.csv').drop('Unnamed: 0', axis=1)\n",
    "y = pd.read_csv('y.csv').drop('Unnamed: 0', axis=1)\n",
    "scaler = StandardScaler(copy=False)\n",
    "scaler.fit_transform(X);  # first standardize X\n",
    "X = X.values\n",
    "y = y.values.reshape(X.shape[0])"
   ]
  },
  {
   "cell_type": "code",
   "execution_count": 3,
   "metadata": {},
   "outputs": [],
   "source": [
    "y = y - y.mean()"
   ]
  },
  {
   "cell_type": "code",
   "execution_count": 4,
   "metadata": {},
   "outputs": [
    {
     "name": "stdout",
     "output_type": "stream",
     "text": [
      "[ 0.30863531 -0.36151377 -0.32634239  0.37026202 -0.36812779  0.86278184\n",
      "  0.25248248  0.02753541 -0.04031857  0.09671715 -0.45938785 -0.67108232\n",
      " -0.00372192 -0.41253187 -0.59212718 -0.02449152  0.0833298   0.42419786\n",
      "  0.11558422  0.44576933  0.5162749   0.36373079 -0.09305792 -0.15168644\n",
      " -0.2006228   0.3488635   0.06879766  0.24348809 -0.09018542 -0.22405543\n",
      "  0.60162992  0.22485355  0.17544116  0.37747642 -0.08840419  0.33278662\n",
      "  0.11757258 -0.19873333  0.0019019  -0.33344027  0.03198141  0.54440436\n",
      " -0.02302638  0.02073925  0.59651086 -0.18385466  0.27453755  0.15715467\n",
      "  0.17962717 -0.23882401  0.03210394 -0.44941287  0.27579315 -0.3676872\n",
      " -0.49364854 -0.58090535  0.07120579 -0.73542665 -0.14796159  0.61645489\n",
      "  0.34318195 -0.28221926 -1.02765015  0.09468836  0.08108983  0.09074042\n",
      " -0.21646225  0.21453537 -0.29976558 -0.1486566   0.20919282  0.48760059\n",
      " -0.73073406 -0.19070571  0.25336427  0.83048934 -0.37054828  0.32799693\n",
      "  0.19971067 -0.22296823  0.20944656  0.39786209 -0.54938626 -0.05862006\n",
      " -0.15571331  0.06114543 -0.16555559  0.01671128 -0.30857762  0.31517933\n",
      "  0.16140944  0.27408491 -0.22918708 -0.44073827 -0.13038431  0.26573608\n",
      " -0.45383137  0.12687524 -0.2555182  -0.02386601]\n",
      "121.36907468009642\n"
     ]
    }
   ],
   "source": [
    "# Problem data.\n",
    "n = X.shape[0]\n",
    "p = X.shape[1]\n",
    "\n",
    "# Construct the problem.\n",
    "z = cp.Variable(n)\n",
    "objective = cp.Minimize(cp.sum_squares(y - z))\n",
    "constraints = [cp.norm(X.T * z, 'inf') <= 1]\n",
    "prob = cp.Problem(objective, constraints)\n",
    "\n",
    "# The optimal objective value is returned by `prob.solve()`.\n",
    "result = prob.solve()\n",
    "# The optimal value for x is stored in `z.value`.\n",
    "print(z.value)\n",
    "# The optimal Lagrange multiplier for a constraint is stored in\n",
    "# `constraint.dual_value`.\n",
    "print(constraints[0].dual_value)"
   ]
  },
  {
   "cell_type": "markdown",
   "metadata": {},
   "source": [
    "&copy; 2018, Tai Yang"
   ]
  }
 ],
 "metadata": {
  "kernelspec": {
   "display_name": "Python 3",
   "language": "python",
   "name": "python3"
  },
  "language_info": {
   "codemirror_mode": {
    "name": "ipython",
    "version": 3
   },
   "file_extension": ".py",
   "mimetype": "text/x-python",
   "name": "python",
   "nbconvert_exporter": "python",
   "pygments_lexer": "ipython3",
   "version": "3.6.5"
  }
 },
 "nbformat": 4,
 "nbformat_minor": 2
}
